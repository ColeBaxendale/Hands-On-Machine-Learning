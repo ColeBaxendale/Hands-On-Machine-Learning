{
 "cells": [
  {
   "cell_type": "markdown",
   "metadata": {},
   "source": [
    "\n",
    "<style>\n",
    ".blue {\n",
    "    color: #89CFF0;\n",
    "}\n",
    "</style>\n",
    "\n",
    "\n",
    "<u><h1> Chapter One<br><br></h1></u>\n",
    "\n",
    "### Simple Terms To Know:\n",
    "<span class=\"blue\">**Traning Set:**</span> Examples that the system uses to learn. \n",
    "\n",
    "<span class=\"blue\">**Training Instance/Sample:**</span> A single example from the training set.\n",
    "\n",
    "<span class=\"blue\">**Model:**</span>  The algorithm or method used for learning and prediction. Neural Networks & Random Forests are examples of models\n",
    "<br><br>\n",
    "\n",
    "### Best Utlization Of Machine Learning:\n",
    "- Problems with already made solutions but require A LOT of fine tuning and / or long lists of rules <br><br>\n",
    "- Complex problems where traditional approach yields no good solutions<br><br>\n",
    "- Flucuating enviorments (Can be easily retrained on new data)<br><br>\n",
    "- Getting insights about complex problems and a lot of data <br><br>\n",
    "\n",
    "<br><br><br><br>\n",
    "\n",
    "\n",
    "\n",
    "\n",
    "\n",
    "\n",
    "\n"
   ]
  },
  {
   "cell_type": "markdown",
   "metadata": {},
   "source": [
    "<style>\n",
    ".blue {\n",
    "    color: #89CFF0;\n",
    "}\n",
    "</style>\n",
    "\n",
    "\n",
    "### Spam Email Model Example: \n",
    "<span class=\"blue\">**T (task):**</span> Flag spam for new emails<br><br>\n",
    "<span class=\"blue\">**E (experience):**</span> The training data<br><br>\n",
    "<span class=\"blue\">**P (performance):**</span> Needs to be defined. For example we can use the ratio of correctlly classified emails. This is called <span class=\"blue\">accuracy</span> and is often used in classification tables.\n",
    "<br>\n",
    "\n",
    "##### Traditonal Program To Solve This Problem:\n",
    "<img src=\"../Images/Chapter_1/Traditonal_Email_Spam_Program.png\" width=\"300\" alt=\"Traditonal_Email_Spam_Program.png cant be found\"></img>\n",
    "<br><br>\n",
    "##### Machine Learning Model Example:\n",
    "<img src=\"../Images/Chapter_1/Machine_Learning_Model_Example.png\" width=\"300\" alt=\"Machine_Learning_Model_Example.png cant be found\"></img>\n",
    "<br><br>\n",
    "##### Machine Learning Can Help Humans Learn Too:\n",
    "<img src=\"../Images/Chapter_1/Learning_With_Model.png\" width=\"300\" alt=\"Learning_With_Model.png cant be found\"></img>\n",
    "<br><br>\n",
    "\n",
    "### Types Of Machine Learning:\n",
    "\n",
    "- Supervised Learning, Unsupervised Learning, Semi-Supervised Learning, Self Suprivised Learning, ETC.\n",
    "<br><br>\n",
    "- To learn on the fly or not (Batch Training vs Online Training)\n",
    "<br><br>\n",
    "- How they work: Compare data points to known data points or learn by detecting patterns in training data and building a predictive model. \n",
    "<br><br>\n",
    "\n",
    "**THESE ARE NOT EXCLUSIVE AND YOU CAN COMBINE THEM ANYWAY YOU WOULD LIKE**"
   ]
  }
 ],
 "metadata": {
  "language_info": {
   "name": "python"
  }
 },
 "nbformat": 4,
 "nbformat_minor": 2
}
