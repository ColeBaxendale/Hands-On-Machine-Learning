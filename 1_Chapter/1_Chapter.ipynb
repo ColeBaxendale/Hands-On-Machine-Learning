{
 "cells": [
  {
   "cell_type": "markdown",
   "metadata": {},
   "source": [
    "\n",
    "<style>\n",
    ".blue {\n",
    "    color: #89CFF0;\n",
    "}\n",
    "</style>\n",
    "\n",
    "\n",
    "# Chapter One\n",
    "<br><br>\n",
    "\n",
    "### Simple Terms To Know:\n",
    "<span class=\"blue\">**Traning Set:**</span> Examples that the system uses to learn. \n",
    "\n",
    "<span class=\"blue\">**Training Instance/Sample:**</span> A single example from the training set.\n",
    "\n",
    "<span class=\"blue\">**Model:**</span>  The algorithm or method used for learning and prediction. Neural Networks & Random Forests are examples of models\n",
    "<br><br>\n",
    "### Spam Email Model Example: \n",
    "<span class=\"blue\">**T (task):**</span> Flag spam for new emails<br><br>\n",
    "<span class=\"blue\">**E (experience):**</span> The training data<br><br>\n",
    "<span class=\"blue\">**P (performance):**</span> Needs to be defined. For example we can use the ratio of correctlly classified emails. This is called <span class=\"blue\">accuracy</span> and is often used in classification tables.\n",
    "<br>\n",
    "\n",
    "##### Traditonal Program To Solve This Problem:\n",
    "![Traditonal_Email_Spam_Program.png cant be found](./Images/Chapter_1/Traditonal_Email_Spam_Program.png)\n",
    "\n",
    "##### Machine Learning Model Example:\n",
    "![Machine_Learning_Model_Example.png cant be found](./Images/Chapter_1/IMG_2069.heic)\n",
    "\n",
    "\n",
    "\n"
   ]
  }
 ],
 "metadata": {
  "language_info": {
   "name": "python"
  }
 },
 "nbformat": 4,
 "nbformat_minor": 2
}
